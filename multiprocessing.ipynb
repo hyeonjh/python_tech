{
  "nbformat": 4,
  "nbformat_minor": 0,
  "metadata": {
    "colab": {
      "provenance": [],
      "authorship_tag": "ABX9TyMOMcQTMqYWqKRwRHMOxh8b",
      "include_colab_link": true
    },
    "kernelspec": {
      "name": "python3",
      "display_name": "Python 3"
    },
    "language_info": {
      "name": "python"
    }
  },
  "cells": [
    {
      "cell_type": "markdown",
      "metadata": {
        "id": "view-in-github",
        "colab_type": "text"
      },
      "source": [
        "<a href=\"https://colab.research.google.com/github/hyeonjh/python_tech/blob/main/multiprocessing.ipynb\" target=\"_parent\"><img src=\"https://colab.research.google.com/assets/colab-badge.svg\" alt=\"Open In Colab\"/></a>"
      ]
    },
    {
      "cell_type": "code",
      "execution_count": 2,
      "metadata": {
        "colab": {
          "base_uri": "https://localhost:8080/"
        },
        "id": "rYl170rVOkWL",
        "outputId": "c57a7a62-facf-4280-e280-b1e30fccbf06"
      },
      "outputs": [
        {
          "output_type": "stream",
          "name": "stdout",
          "text": [
            "0 done\n",
            "1 done\n",
            "2 done\n",
            "3 done\n",
            "1.2442188262939453 aa \n"
          ]
        }
      ],
      "source": [
        "#멀티프로세싱 전 \n",
        "# ipynb 에서는 결과값이 오류가 남 . ( vs 의경우 . )\n",
        "\n",
        "import time \n",
        "\n",
        "def aa(a):\n",
        "  result=0\n",
        "  for i in range(4000000):\n",
        "    result += i\n",
        "  print('%s done' % a)\n",
        "\n",
        "\n",
        "start = time.time()\n",
        "for i in range(4):\n",
        "  aa(i)\n",
        "end = time.time()\n",
        "\n",
        "print('%s aa ' % (end-start))"
      ]
    },
    {
      "cell_type": "code",
      "source": [
        "import time \n",
        "import multiprocessing\n",
        "\n",
        "def aa(a):\n",
        "  result=0\n",
        "  for i in range(4000000):\n",
        "    result += i\n",
        "  print(\"%s done\" % a)\n",
        "\n",
        "if __name__ == '__main__' :\n",
        "  start = time.time()\n",
        "  pool = multiprocessing.Pool(processes =4 )\n",
        "  pool.map(aa,range(4))\n",
        "  pool.close()\n",
        "  pool.join()\n",
        "\n",
        "  end =time.time()\n",
        "  print('ss %f'  %(end-start))"
      ],
      "metadata": {
        "colab": {
          "base_uri": "https://localhost:8080/"
        },
        "id": "7Nk082YVQCuI",
        "outputId": "bf6e1253-6859-4bef-c1bf-51cbb5ffdc9f"
      },
      "execution_count": 1,
      "outputs": [
        {
          "output_type": "stream",
          "name": "stdout",
          "text": [
            "0 done\n",
            "1 done\n",
            "2 done\n",
            "3 done\n",
            "1.4041612148284912 aa \n"
          ]
        }
      ]
    },
    {
      "cell_type": "code",
      "source": [],
      "metadata": {
        "id": "74tYLRB3Rt7I"
      },
      "execution_count": null,
      "outputs": []
    }
  ]
}